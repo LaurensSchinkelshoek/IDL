{
 "cells": [
  {
   "cell_type": "code",
   "execution_count": 1,
   "metadata": {},
   "outputs": [],
   "source": [
    "import numpy as np\n",
    "import pandas as pd\n",
    "#%pylab inline\n",
    "import matplotlib.pyplot as plt\n",
    "import matplotlib.image as mpimg"
   ]
  },
  {
   "cell_type": "markdown",
   "metadata": {},
   "source": [
    "## Data dimensionality, distance-based classifiers\n",
    "Excercise with mnist digit dataset. Lets first load the data and take a peek:"
   ]
  },
  {
   "cell_type": "code",
   "execution_count": 66,
   "metadata": {},
   "outputs": [
    {
     "data": {
      "text/html": [
       "<div>\n",
       "<style scoped>\n",
       "    .dataframe tbody tr th:only-of-type {\n",
       "        vertical-align: middle;\n",
       "    }\n",
       "\n",
       "    .dataframe tbody tr th {\n",
       "        vertical-align: top;\n",
       "    }\n",
       "\n",
       "    .dataframe thead th {\n",
       "        text-align: right;\n",
       "    }\n",
       "</style>\n",
       "<table border=\"1\" class=\"dataframe\">\n",
       "  <thead>\n",
       "    <tr style=\"text-align: right;\">\n",
       "      <th></th>\n",
       "      <th>0</th>\n",
       "      <th>1</th>\n",
       "      <th>2</th>\n",
       "      <th>3</th>\n",
       "      <th>4</th>\n",
       "      <th>5</th>\n",
       "      <th>6</th>\n",
       "      <th>7</th>\n",
       "      <th>8</th>\n",
       "      <th>9</th>\n",
       "      <th>...</th>\n",
       "      <th>247</th>\n",
       "      <th>248</th>\n",
       "      <th>249</th>\n",
       "      <th>250</th>\n",
       "      <th>251</th>\n",
       "      <th>252</th>\n",
       "      <th>253</th>\n",
       "      <th>254</th>\n",
       "      <th>255</th>\n",
       "      <th>label</th>\n",
       "    </tr>\n",
       "  </thead>\n",
       "  <tbody>\n",
       "    <tr>\n",
       "      <th>853</th>\n",
       "      <td>-1.0</td>\n",
       "      <td>-1.0</td>\n",
       "      <td>-1.0</td>\n",
       "      <td>-1.0</td>\n",
       "      <td>-1.000</td>\n",
       "      <td>-1.000</td>\n",
       "      <td>-1.000</td>\n",
       "      <td>-1.000</td>\n",
       "      <td>-0.615</td>\n",
       "      <td>0.370</td>\n",
       "      <td>...</td>\n",
       "      <td>0.407</td>\n",
       "      <td>0.267</td>\n",
       "      <td>-0.185</td>\n",
       "      <td>-0.540</td>\n",
       "      <td>-1.000</td>\n",
       "      <td>-1.00</td>\n",
       "      <td>-1.0</td>\n",
       "      <td>-1.0</td>\n",
       "      <td>-1.0</td>\n",
       "      <td>0</td>\n",
       "    </tr>\n",
       "    <tr>\n",
       "      <th>388</th>\n",
       "      <td>-1.0</td>\n",
       "      <td>-1.0</td>\n",
       "      <td>-1.0</td>\n",
       "      <td>-1.0</td>\n",
       "      <td>-1.000</td>\n",
       "      <td>-1.000</td>\n",
       "      <td>-1.000</td>\n",
       "      <td>-1.000</td>\n",
       "      <td>-1.000</td>\n",
       "      <td>-1.000</td>\n",
       "      <td>...</td>\n",
       "      <td>-1.000</td>\n",
       "      <td>-1.000</td>\n",
       "      <td>-1.000</td>\n",
       "      <td>-1.000</td>\n",
       "      <td>-1.000</td>\n",
       "      <td>-1.00</td>\n",
       "      <td>-1.0</td>\n",
       "      <td>-1.0</td>\n",
       "      <td>-1.0</td>\n",
       "      <td>0</td>\n",
       "    </tr>\n",
       "    <tr>\n",
       "      <th>864</th>\n",
       "      <td>-1.0</td>\n",
       "      <td>-1.0</td>\n",
       "      <td>-1.0</td>\n",
       "      <td>-1.0</td>\n",
       "      <td>-1.000</td>\n",
       "      <td>-1.000</td>\n",
       "      <td>-0.974</td>\n",
       "      <td>-0.503</td>\n",
       "      <td>0.632</td>\n",
       "      <td>0.651</td>\n",
       "      <td>...</td>\n",
       "      <td>0.939</td>\n",
       "      <td>0.856</td>\n",
       "      <td>0.053</td>\n",
       "      <td>0.008</td>\n",
       "      <td>-0.829</td>\n",
       "      <td>-0.97</td>\n",
       "      <td>-1.0</td>\n",
       "      <td>-1.0</td>\n",
       "      <td>-1.0</td>\n",
       "      <td>0</td>\n",
       "    </tr>\n",
       "    <tr>\n",
       "      <th>375</th>\n",
       "      <td>-1.0</td>\n",
       "      <td>-1.0</td>\n",
       "      <td>-1.0</td>\n",
       "      <td>-1.0</td>\n",
       "      <td>-0.929</td>\n",
       "      <td>0.119</td>\n",
       "      <td>0.262</td>\n",
       "      <td>-0.068</td>\n",
       "      <td>-0.721</td>\n",
       "      <td>-1.000</td>\n",
       "      <td>...</td>\n",
       "      <td>0.023</td>\n",
       "      <td>-0.388</td>\n",
       "      <td>-0.388</td>\n",
       "      <td>-0.388</td>\n",
       "      <td>-0.470</td>\n",
       "      <td>-1.00</td>\n",
       "      <td>-1.0</td>\n",
       "      <td>-1.0</td>\n",
       "      <td>-1.0</td>\n",
       "      <td>0</td>\n",
       "    </tr>\n",
       "    <tr>\n",
       "      <th>865</th>\n",
       "      <td>-1.0</td>\n",
       "      <td>-1.0</td>\n",
       "      <td>-1.0</td>\n",
       "      <td>-1.0</td>\n",
       "      <td>-1.000</td>\n",
       "      <td>-0.402</td>\n",
       "      <td>0.179</td>\n",
       "      <td>0.663</td>\n",
       "      <td>0.368</td>\n",
       "      <td>-0.487</td>\n",
       "      <td>...</td>\n",
       "      <td>1.000</td>\n",
       "      <td>1.000</td>\n",
       "      <td>0.454</td>\n",
       "      <td>-0.015</td>\n",
       "      <td>-0.698</td>\n",
       "      <td>-1.00</td>\n",
       "      <td>-1.0</td>\n",
       "      <td>-1.0</td>\n",
       "      <td>-1.0</td>\n",
       "      <td>0</td>\n",
       "    </tr>\n",
       "    <tr>\n",
       "      <th>...</th>\n",
       "      <td>...</td>\n",
       "      <td>...</td>\n",
       "      <td>...</td>\n",
       "      <td>...</td>\n",
       "      <td>...</td>\n",
       "      <td>...</td>\n",
       "      <td>...</td>\n",
       "      <td>...</td>\n",
       "      <td>...</td>\n",
       "      <td>...</td>\n",
       "      <td>...</td>\n",
       "      <td>...</td>\n",
       "      <td>...</td>\n",
       "      <td>...</td>\n",
       "      <td>...</td>\n",
       "      <td>...</td>\n",
       "      <td>...</td>\n",
       "      <td>...</td>\n",
       "      <td>...</td>\n",
       "      <td>...</td>\n",
       "      <td>...</td>\n",
       "    </tr>\n",
       "    <tr>\n",
       "      <th>136</th>\n",
       "      <td>-1.0</td>\n",
       "      <td>-1.0</td>\n",
       "      <td>-1.0</td>\n",
       "      <td>-1.0</td>\n",
       "      <td>-1.000</td>\n",
       "      <td>-1.000</td>\n",
       "      <td>-1.000</td>\n",
       "      <td>-0.751</td>\n",
       "      <td>0.065</td>\n",
       "      <td>0.936</td>\n",
       "      <td>...</td>\n",
       "      <td>0.815</td>\n",
       "      <td>-0.876</td>\n",
       "      <td>-1.000</td>\n",
       "      <td>-1.000</td>\n",
       "      <td>-1.000</td>\n",
       "      <td>-1.00</td>\n",
       "      <td>-1.0</td>\n",
       "      <td>-1.0</td>\n",
       "      <td>-1.0</td>\n",
       "      <td>9</td>\n",
       "    </tr>\n",
       "    <tr>\n",
       "      <th>652</th>\n",
       "      <td>-1.0</td>\n",
       "      <td>-1.0</td>\n",
       "      <td>-1.0</td>\n",
       "      <td>-1.0</td>\n",
       "      <td>-1.000</td>\n",
       "      <td>-1.000</td>\n",
       "      <td>-0.721</td>\n",
       "      <td>-0.095</td>\n",
       "      <td>0.557</td>\n",
       "      <td>0.855</td>\n",
       "      <td>...</td>\n",
       "      <td>-1.000</td>\n",
       "      <td>0.091</td>\n",
       "      <td>0.670</td>\n",
       "      <td>-0.880</td>\n",
       "      <td>-1.000</td>\n",
       "      <td>-1.00</td>\n",
       "      <td>-1.0</td>\n",
       "      <td>-1.0</td>\n",
       "      <td>-1.0</td>\n",
       "      <td>9</td>\n",
       "    </tr>\n",
       "    <tr>\n",
       "      <th>1615</th>\n",
       "      <td>-1.0</td>\n",
       "      <td>-1.0</td>\n",
       "      <td>-1.0</td>\n",
       "      <td>-1.0</td>\n",
       "      <td>-0.940</td>\n",
       "      <td>-0.359</td>\n",
       "      <td>0.304</td>\n",
       "      <td>0.319</td>\n",
       "      <td>0.436</td>\n",
       "      <td>1.000</td>\n",
       "      <td>...</td>\n",
       "      <td>-0.800</td>\n",
       "      <td>0.615</td>\n",
       "      <td>0.714</td>\n",
       "      <td>-0.705</td>\n",
       "      <td>-1.000</td>\n",
       "      <td>-1.00</td>\n",
       "      <td>-1.0</td>\n",
       "      <td>-1.0</td>\n",
       "      <td>-1.0</td>\n",
       "      <td>9</td>\n",
       "    </tr>\n",
       "    <tr>\n",
       "      <th>371</th>\n",
       "      <td>-1.0</td>\n",
       "      <td>-1.0</td>\n",
       "      <td>-1.0</td>\n",
       "      <td>-1.0</td>\n",
       "      <td>-1.000</td>\n",
       "      <td>-0.965</td>\n",
       "      <td>-0.220</td>\n",
       "      <td>0.347</td>\n",
       "      <td>0.964</td>\n",
       "      <td>1.000</td>\n",
       "      <td>...</td>\n",
       "      <td>1.000</td>\n",
       "      <td>-0.109</td>\n",
       "      <td>-0.997</td>\n",
       "      <td>-1.000</td>\n",
       "      <td>-1.000</td>\n",
       "      <td>-1.00</td>\n",
       "      <td>-1.0</td>\n",
       "      <td>-1.0</td>\n",
       "      <td>-1.0</td>\n",
       "      <td>9</td>\n",
       "    </tr>\n",
       "    <tr>\n",
       "      <th>858</th>\n",
       "      <td>-1.0</td>\n",
       "      <td>-1.0</td>\n",
       "      <td>-1.0</td>\n",
       "      <td>-1.0</td>\n",
       "      <td>-0.605</td>\n",
       "      <td>0.038</td>\n",
       "      <td>0.407</td>\n",
       "      <td>0.706</td>\n",
       "      <td>1.000</td>\n",
       "      <td>0.569</td>\n",
       "      <td>...</td>\n",
       "      <td>0.667</td>\n",
       "      <td>-0.961</td>\n",
       "      <td>-1.000</td>\n",
       "      <td>-1.000</td>\n",
       "      <td>-1.000</td>\n",
       "      <td>-1.00</td>\n",
       "      <td>-1.0</td>\n",
       "      <td>-1.0</td>\n",
       "      <td>-1.0</td>\n",
       "      <td>9</td>\n",
       "    </tr>\n",
       "  </tbody>\n",
       "</table>\n",
       "<p>1707 rows × 257 columns</p>\n",
       "</div>"
      ],
      "text/plain": [
       "        0    1    2    3      4      5      6      7      8      9  ...  \\\n",
       "853  -1.0 -1.0 -1.0 -1.0 -1.000 -1.000 -1.000 -1.000 -0.615  0.370  ...   \n",
       "388  -1.0 -1.0 -1.0 -1.0 -1.000 -1.000 -1.000 -1.000 -1.000 -1.000  ...   \n",
       "864  -1.0 -1.0 -1.0 -1.0 -1.000 -1.000 -0.974 -0.503  0.632  0.651  ...   \n",
       "375  -1.0 -1.0 -1.0 -1.0 -0.929  0.119  0.262 -0.068 -0.721 -1.000  ...   \n",
       "865  -1.0 -1.0 -1.0 -1.0 -1.000 -0.402  0.179  0.663  0.368 -0.487  ...   \n",
       "...   ...  ...  ...  ...    ...    ...    ...    ...    ...    ...  ...   \n",
       "136  -1.0 -1.0 -1.0 -1.0 -1.000 -1.000 -1.000 -0.751  0.065  0.936  ...   \n",
       "652  -1.0 -1.0 -1.0 -1.0 -1.000 -1.000 -0.721 -0.095  0.557  0.855  ...   \n",
       "1615 -1.0 -1.0 -1.0 -1.0 -0.940 -0.359  0.304  0.319  0.436  1.000  ...   \n",
       "371  -1.0 -1.0 -1.0 -1.0 -1.000 -0.965 -0.220  0.347  0.964  1.000  ...   \n",
       "858  -1.0 -1.0 -1.0 -1.0 -0.605  0.038  0.407  0.706  1.000  0.569  ...   \n",
       "\n",
       "        247    248    249    250    251   252  253  254  255  label  \n",
       "853   0.407  0.267 -0.185 -0.540 -1.000 -1.00 -1.0 -1.0 -1.0      0  \n",
       "388  -1.000 -1.000 -1.000 -1.000 -1.000 -1.00 -1.0 -1.0 -1.0      0  \n",
       "864   0.939  0.856  0.053  0.008 -0.829 -0.97 -1.0 -1.0 -1.0      0  \n",
       "375   0.023 -0.388 -0.388 -0.388 -0.470 -1.00 -1.0 -1.0 -1.0      0  \n",
       "865   1.000  1.000  0.454 -0.015 -0.698 -1.00 -1.0 -1.0 -1.0      0  \n",
       "...     ...    ...    ...    ...    ...   ...  ...  ...  ...    ...  \n",
       "136   0.815 -0.876 -1.000 -1.000 -1.000 -1.00 -1.0 -1.0 -1.0      9  \n",
       "652  -1.000  0.091  0.670 -0.880 -1.000 -1.00 -1.0 -1.0 -1.0      9  \n",
       "1615 -0.800  0.615  0.714 -0.705 -1.000 -1.00 -1.0 -1.0 -1.0      9  \n",
       "371   1.000 -0.109 -0.997 -1.000 -1.000 -1.00 -1.0 -1.0 -1.0      9  \n",
       "858   0.667 -0.961 -1.000 -1.000 -1.000 -1.00 -1.0 -1.0 -1.0      9  \n",
       "\n",
       "[1707 rows x 257 columns]"
      ]
     },
     "execution_count": 66,
     "metadata": {},
     "output_type": "execute_result"
    }
   ],
   "source": [
    "X_train = pd.read_csv('./data/train_in.csv',header=None)\n",
    "Y_train = pd.read_csv('./data/train_out.csv',header=None)\n",
    "df_train = X_train.copy()\n",
    "df_train['label']=Y_train\n",
    "df_train.sort_values('label')"
   ]
  },
  {
   "cell_type": "code",
   "execution_count": 133,
   "metadata": {},
   "outputs": [
    {
     "data": {
      "image/png": "[encoded data removed]",
      "text/plain": [
       "<Figure size 432x288 with 1 Axes>"
      ]
     },
     "metadata": {
      "needs_background": "light"
     },
     "output_type": "display_data"
    }
   ],
   "source": [
    "def show_number(nr,data):    \n",
    "    X=np.array(data)\n",
    "    X=np.reshape(X[nr,:],(16,16))\n",
    "    imgplot = plt.imshow(X)\n",
    "    plt.show()\n",
    "show_number(0,X_train)"
   ]
  },
  {
   "cell_type": "markdown",
   "metadata": {},
   "source": [
    "How big is the difference between numbers?"
   ]
  },
  {
   "cell_type": "code",
   "execution_count": 19,
   "metadata": {},
   "outputs": [
    {
     "data": {
      "image/png": "[encoded data removed]",
      "text/plain": [
       "<Figure size 720x720 with 9 Axes>"
      ]
     },
     "metadata": {
      "needs_background": "light"
     },
     "output_type": "display_data"
    },
    {
     "data": {
      "image/png": "[encoded data removed]",
      "text/plain": [
       "<Figure size 720x720 with 9 Axes>"
      ]
     },
     "metadata": {
      "needs_background": "light"
     },
     "output_type": "display_data"
    },
    {
     "data": {
      "image/png": "[encoded data removed]",
      "text/plain": [
       "<Figure size 720x720 with 9 Axes>"
      ]
     },
     "metadata": {
      "needs_background": "light"
     },
     "output_type": "display_data"
    },
    {
     "data": {
      "image/png": "[encoded data removed]",
      "text/plain": [
       "<Figure size 720x720 with 9 Axes>"
      ]
     },
     "metadata": {
      "needs_background": "light"
     },
     "output_type": "display_data"
    },
    {
     "data": {
      "image/png": "[encoded data removed]",
      "text/plain": [
       "<Figure size 720x720 with 9 Axes>"
      ]
     },
     "metadata": {
      "needs_background": "light"
     },
     "output_type": "display_data"
    },
    {
     "data": {
      "image/png": "[encoded data removed]",
      "text/plain": [
       "<Figure size 720x720 with 9 Axes>"
      ]
     },
     "metadata": {
      "needs_background": "light"
     },
     "output_type": "display_data"
    },
    {
     "data": {
      "image/png": "[encoded data removed]",
      "text/plain": [
       "<Figure size 720x720 with 9 Axes>"
      ]
     },
     "metadata": {
      "needs_background": "light"
     },
     "output_type": "display_data"
    },
    {
     "data": {
      "image/png": "[encoded data removed]",
      "text/plain": [
       "<Figure size 720x720 with 9 Axes>"
      ]
     },
     "metadata": {
      "needs_background": "light"
     },
     "output_type": "display_data"
    },
    {
     "data": {
      "image/png": "[encoded data removed]",
      "text/plain": [
       "<Figure size 720x720 with 9 Axes>"
      ]
     },
     "metadata": {
      "needs_background": "light"
     },
     "output_type": "display_data"
    },
    {
     "data": {
      "image/png": "[encoded data removed]",
      "text/plain": [
       "<Figure size 720x720 with 9 Axes>"
      ]
     },
     "metadata": {
      "needs_background": "light"
     },
     "output_type": "display_data"
    }
   ],
   "source": [
    "def get_image(nr,data):\n",
    "    data=np.array(data.drop('label',axis=1))\n",
    "    return np.reshape(data[nr,:],(16,16))\n",
    "\n",
    "def display_multiple_img(images, rows = 3, cols=3):\n",
    "    figure, ax = plt.subplots(nrows=rows,ncols=cols,figsize=(10,10))\n",
    "    for ind,title in enumerate(images):\n",
    "        ax.ravel()[ind].imshow(images[title])\n",
    "        ax.ravel()[ind].set_axis_off()\n",
    "    plt.tight_layout()\n",
    "    plt.show()\n",
    "\n",
    "def display_digits(digit,data,rows,cols):\n",
    "    total_images = rows*cols\n",
    "    index=data.loc[data.label==digit].index[:total_images]\n",
    "    images = {'Image'+str(i):get_image(i,data) for i in index}\n",
    "    display_multiple_img(images, rows, cols)\n",
    "\n",
    "    \n",
    "for i in range(10):\n",
    "    display_digits(i,df_train,rows=1,cols=9)"
   ]
  },
  {
   "cell_type": "markdown",
   "metadata": {},
   "source": [
    "For each digit d in range(10) calculate the 'centre': $c_{d}$ as the mean of allcoordinates of vectors constructin $C_{d}$."
   ]
  },
  {
   "cell_type": "code",
   "execution_count": 20,
   "metadata": {},
   "outputs": [
    {
     "data": {
      "text/html": [
       "<div>\n",
       "<style scoped>\n",
       "    .dataframe tbody tr th:only-of-type {\n",
       "        vertical-align: middle;\n",
       "    }\n",
       "\n",
       "    .dataframe tbody tr th {\n",
       "        vertical-align: top;\n",
       "    }\n",
       "\n",
       "    .dataframe thead th {\n",
       "        text-align: right;\n",
       "    }\n",
       "</style>\n",
       "<table border=\"1\" class=\"dataframe\">\n",
       "  <thead>\n",
       "    <tr style=\"text-align: right;\">\n",
       "      <th></th>\n",
       "      <th>0</th>\n",
       "      <th>1</th>\n",
       "      <th>2</th>\n",
       "      <th>3</th>\n",
       "      <th>4</th>\n",
       "      <th>5</th>\n",
       "      <th>6</th>\n",
       "      <th>7</th>\n",
       "      <th>8</th>\n",
       "      <th>9</th>\n",
       "      <th>...</th>\n",
       "      <th>246</th>\n",
       "      <th>247</th>\n",
       "      <th>248</th>\n",
       "      <th>249</th>\n",
       "      <th>250</th>\n",
       "      <th>251</th>\n",
       "      <th>252</th>\n",
       "      <th>253</th>\n",
       "      <th>254</th>\n",
       "      <th>255</th>\n",
       "    </tr>\n",
       "    <tr>\n",
       "      <th>label</th>\n",
       "      <th></th>\n",
       "      <th></th>\n",
       "      <th></th>\n",
       "      <th></th>\n",
       "      <th></th>\n",
       "      <th></th>\n",
       "      <th></th>\n",
       "      <th></th>\n",
       "      <th></th>\n",
       "      <th></th>\n",
       "      <th></th>\n",
       "      <th></th>\n",
       "      <th></th>\n",
       "      <th></th>\n",
       "      <th></th>\n",
       "      <th></th>\n",
       "      <th></th>\n",
       "      <th></th>\n",
       "      <th></th>\n",
       "      <th></th>\n",
       "      <th></th>\n",
       "    </tr>\n",
       "  </thead>\n",
       "  <tbody>\n",
       "    <tr>\n",
       "      <th>0</th>\n",
       "      <td>-1.000000</td>\n",
       "      <td>-0.997524</td>\n",
       "      <td>-0.987003</td>\n",
       "      <td>-0.945918</td>\n",
       "      <td>-0.844044</td>\n",
       "      <td>-0.604991</td>\n",
       "      <td>-0.141621</td>\n",
       "      <td>0.161361</td>\n",
       "      <td>0.082251</td>\n",
       "      <td>-0.342887</td>\n",
       "      <td>...</td>\n",
       "      <td>0.289508</td>\n",
       "      <td>0.542160</td>\n",
       "      <td>0.444213</td>\n",
       "      <td>0.022950</td>\n",
       "      <td>-0.507881</td>\n",
       "      <td>-0.850539</td>\n",
       "      <td>-0.976881</td>\n",
       "      <td>-0.998734</td>\n",
       "      <td>-1.000000</td>\n",
       "      <td>-1.000000</td>\n",
       "    </tr>\n",
       "    <tr>\n",
       "      <th>1</th>\n",
       "      <td>-1.000000</td>\n",
       "      <td>-1.000000</td>\n",
       "      <td>-1.000000</td>\n",
       "      <td>-1.000000</td>\n",
       "      <td>-1.000000</td>\n",
       "      <td>-0.996972</td>\n",
       "      <td>-0.661611</td>\n",
       "      <td>0.510294</td>\n",
       "      <td>0.030044</td>\n",
       "      <td>-0.901274</td>\n",
       "      <td>...</td>\n",
       "      <td>-0.849389</td>\n",
       "      <td>0.166083</td>\n",
       "      <td>0.553520</td>\n",
       "      <td>-0.593107</td>\n",
       "      <td>-0.979258</td>\n",
       "      <td>-1.000000</td>\n",
       "      <td>-1.000000</td>\n",
       "      <td>-1.000000</td>\n",
       "      <td>-1.000000</td>\n",
       "      <td>-1.000000</td>\n",
       "    </tr>\n",
       "    <tr>\n",
       "      <th>2</th>\n",
       "      <td>-0.986797</td>\n",
       "      <td>-0.941292</td>\n",
       "      <td>-0.876579</td>\n",
       "      <td>-0.804203</td>\n",
       "      <td>-0.629980</td>\n",
       "      <td>-0.406213</td>\n",
       "      <td>-0.242248</td>\n",
       "      <td>-0.191307</td>\n",
       "      <td>-0.360149</td>\n",
       "      <td>-0.674030</td>\n",
       "      <td>...</td>\n",
       "      <td>-0.530079</td>\n",
       "      <td>-0.679812</td>\n",
       "      <td>-0.783594</td>\n",
       "      <td>-0.844733</td>\n",
       "      <td>-0.850465</td>\n",
       "      <td>-0.825832</td>\n",
       "      <td>-0.773213</td>\n",
       "      <td>-0.775074</td>\n",
       "      <td>-0.851668</td>\n",
       "      <td>-0.948465</td>\n",
       "    </tr>\n",
       "    <tr>\n",
       "      <th>3</th>\n",
       "      <td>-1.000000</td>\n",
       "      <td>-0.989557</td>\n",
       "      <td>-0.917977</td>\n",
       "      <td>-0.728794</td>\n",
       "      <td>-0.378145</td>\n",
       "      <td>-0.045748</td>\n",
       "      <td>0.235366</td>\n",
       "      <td>0.424603</td>\n",
       "      <td>0.419053</td>\n",
       "      <td>0.123260</td>\n",
       "      <td>...</td>\n",
       "      <td>0.333496</td>\n",
       "      <td>0.378382</td>\n",
       "      <td>0.262832</td>\n",
       "      <td>-0.004893</td>\n",
       "      <td>-0.308008</td>\n",
       "      <td>-0.592107</td>\n",
       "      <td>-0.795198</td>\n",
       "      <td>-0.925282</td>\n",
       "      <td>-0.979122</td>\n",
       "      <td>-0.999473</td>\n",
       "    </tr>\n",
       "    <tr>\n",
       "      <th>4</th>\n",
       "      <td>-1.000000</td>\n",
       "      <td>-1.000000</td>\n",
       "      <td>-1.000000</td>\n",
       "      <td>-0.984016</td>\n",
       "      <td>-0.910434</td>\n",
       "      <td>-0.855426</td>\n",
       "      <td>-0.918049</td>\n",
       "      <td>-0.863639</td>\n",
       "      <td>-0.781008</td>\n",
       "      <td>-0.729377</td>\n",
       "      <td>...</td>\n",
       "      <td>-0.861836</td>\n",
       "      <td>-0.590828</td>\n",
       "      <td>-0.334426</td>\n",
       "      <td>-0.278828</td>\n",
       "      <td>-0.600361</td>\n",
       "      <td>-0.778877</td>\n",
       "      <td>-0.926730</td>\n",
       "      <td>-0.979664</td>\n",
       "      <td>-0.989631</td>\n",
       "      <td>-1.000000</td>\n",
       "    </tr>\n",
       "    <tr>\n",
       "      <th>5</th>\n",
       "      <td>-1.000000</td>\n",
       "      <td>-0.994852</td>\n",
       "      <td>-0.980898</td>\n",
       "      <td>-0.931909</td>\n",
       "      <td>-0.840636</td>\n",
       "      <td>-0.775227</td>\n",
       "      <td>-0.623273</td>\n",
       "      <td>-0.460739</td>\n",
       "      <td>-0.328909</td>\n",
       "      <td>-0.154477</td>\n",
       "      <td>...</td>\n",
       "      <td>0.110511</td>\n",
       "      <td>0.243409</td>\n",
       "      <td>0.225500</td>\n",
       "      <td>0.079545</td>\n",
       "      <td>-0.225330</td>\n",
       "      <td>-0.550636</td>\n",
       "      <td>-0.784170</td>\n",
       "      <td>-0.906341</td>\n",
       "      <td>-0.971966</td>\n",
       "      <td>-0.997909</td>\n",
       "    </tr>\n",
       "    <tr>\n",
       "      <th>6</th>\n",
       "      <td>-1.000000</td>\n",
       "      <td>-1.000000</td>\n",
       "      <td>-1.000000</td>\n",
       "      <td>-1.000000</td>\n",
       "      <td>-0.997404</td>\n",
       "      <td>-0.964040</td>\n",
       "      <td>-0.875828</td>\n",
       "      <td>-0.546066</td>\n",
       "      <td>-0.055894</td>\n",
       "      <td>-0.080397</td>\n",
       "      <td>...</td>\n",
       "      <td>0.374391</td>\n",
       "      <td>0.473755</td>\n",
       "      <td>0.250139</td>\n",
       "      <td>-0.195086</td>\n",
       "      <td>-0.643828</td>\n",
       "      <td>-0.870583</td>\n",
       "      <td>-0.962073</td>\n",
       "      <td>-0.993026</td>\n",
       "      <td>-1.000000</td>\n",
       "      <td>-1.000000</td>\n",
       "    </tr>\n",
       "    <tr>\n",
       "      <th>7</th>\n",
       "      <td>-0.985030</td>\n",
       "      <td>-0.900476</td>\n",
       "      <td>-0.777145</td>\n",
       "      <td>-0.619380</td>\n",
       "      <td>-0.434488</td>\n",
       "      <td>-0.279331</td>\n",
       "      <td>-0.208434</td>\n",
       "      <td>-0.189855</td>\n",
       "      <td>-0.090145</td>\n",
       "      <td>0.016741</td>\n",
       "      <td>...</td>\n",
       "      <td>-0.321090</td>\n",
       "      <td>0.106663</td>\n",
       "      <td>-0.236711</td>\n",
       "      <td>-0.793783</td>\n",
       "      <td>-0.955452</td>\n",
       "      <td>-0.997494</td>\n",
       "      <td>-1.000000</td>\n",
       "      <td>-1.000000</td>\n",
       "      <td>-1.000000</td>\n",
       "      <td>-1.000000</td>\n",
       "    </tr>\n",
       "    <tr>\n",
       "      <th>8</th>\n",
       "      <td>-0.999285</td>\n",
       "      <td>-0.974076</td>\n",
       "      <td>-0.917743</td>\n",
       "      <td>-0.822118</td>\n",
       "      <td>-0.617340</td>\n",
       "      <td>-0.278667</td>\n",
       "      <td>0.177389</td>\n",
       "      <td>0.386562</td>\n",
       "      <td>0.290319</td>\n",
       "      <td>-0.085993</td>\n",
       "      <td>...</td>\n",
       "      <td>0.050521</td>\n",
       "      <td>0.531792</td>\n",
       "      <td>0.582271</td>\n",
       "      <td>0.103076</td>\n",
       "      <td>-0.547979</td>\n",
       "      <td>-0.875514</td>\n",
       "      <td>-0.972472</td>\n",
       "      <td>-0.993299</td>\n",
       "      <td>-0.999986</td>\n",
       "      <td>-1.000000</td>\n",
       "    </tr>\n",
       "    <tr>\n",
       "      <th>9</th>\n",
       "      <td>-1.000000</td>\n",
       "      <td>-1.000000</td>\n",
       "      <td>-1.000000</td>\n",
       "      <td>-0.995712</td>\n",
       "      <td>-0.963902</td>\n",
       "      <td>-0.791992</td>\n",
       "      <td>-0.336841</td>\n",
       "      <td>0.290121</td>\n",
       "      <td>0.661409</td>\n",
       "      <td>0.551159</td>\n",
       "      <td>...</td>\n",
       "      <td>-0.613008</td>\n",
       "      <td>0.091856</td>\n",
       "      <td>0.016485</td>\n",
       "      <td>-0.565197</td>\n",
       "      <td>-0.922091</td>\n",
       "      <td>-0.993515</td>\n",
       "      <td>-0.984977</td>\n",
       "      <td>-0.985379</td>\n",
       "      <td>-0.994826</td>\n",
       "      <td>-1.000000</td>\n",
       "    </tr>\n",
       "  </tbody>\n",
       "</table>\n",
       "<p>10 rows × 256 columns</p>\n",
       "</div>"
      ],
      "text/plain": [
       "            0         1         2         3         4         5         6    \\\n",
       "label                                                                         \n",
       "0     -1.000000 -0.997524 -0.987003 -0.945918 -0.844044 -0.604991 -0.141621   \n",
       "1     -1.000000 -1.000000 -1.000000 -1.000000 -1.000000 -0.996972 -0.661611   \n",
       "2     -0.986797 -0.941292 -0.876579 -0.804203 -0.629980 -0.406213 -0.242248   \n",
       "3     -1.000000 -0.989557 -0.917977 -0.728794 -0.378145 -0.045748  0.235366   \n",
       "4     -1.000000 -1.000000 -1.000000 -0.984016 -0.910434 -0.855426 -0.918049   \n",
       "5     -1.000000 -0.994852 -0.980898 -0.931909 -0.840636 -0.775227 -0.623273   \n",
       "6     -1.000000 -1.000000 -1.000000 -1.000000 -0.997404 -0.964040 -0.875828   \n",
       "7     -0.985030 -0.900476 -0.777145 -0.619380 -0.434488 -0.279331 -0.208434   \n",
       "8     -0.999285 -0.974076 -0.917743 -0.822118 -0.617340 -0.278667  0.177389   \n",
       "9     -1.000000 -1.000000 -1.000000 -0.995712 -0.963902 -0.791992 -0.336841   \n",
       "\n",
       "            7         8         9    ...       246       247       248  \\\n",
       "label                                ...                                 \n",
       "0      0.161361  0.082251 -0.342887  ...  0.289508  0.542160  0.444213   \n",
       "1      0.510294  0.030044 -0.901274  ... -0.849389  0.166083  0.553520   \n",
       "2     -0.191307 -0.360149 -0.674030  ... -0.530079 -0.679812 -0.783594   \n",
       "3      0.424603  0.419053  0.123260  ...  0.333496  0.378382  0.262832   \n",
       "4     -0.863639 -0.781008 -0.729377  ... -0.861836 -0.590828 -0.334426   \n",
       "5     -0.460739 -0.328909 -0.154477  ...  0.110511  0.243409  0.225500   \n",
       "6     -0.546066 -0.055894 -0.080397  ...  0.374391  0.473755  0.250139   \n",
       "7     -0.189855 -0.090145  0.016741  ... -0.321090  0.106663 -0.236711   \n",
       "8      0.386562  0.290319 -0.085993  ...  0.050521  0.531792  0.582271   \n",
       "9      0.290121  0.661409  0.551159  ... -0.613008  0.091856  0.016485   \n",
       "\n",
       "            249       250       251       252       253       254       255  \n",
       "label                                                                        \n",
       "0      0.022950 -0.507881 -0.850539 -0.976881 -0.998734 -1.000000 -1.000000  \n",
       "1     -0.593107 -0.979258 -1.000000 -1.000000 -1.000000 -1.000000 -1.000000  \n",
       "2     -0.844733 -0.850465 -0.825832 -0.773213 -0.775074 -0.851668 -0.948465  \n",
       "3     -0.004893 -0.308008 -0.592107 -0.795198 -0.925282 -0.979122 -0.999473  \n",
       "4     -0.278828 -0.600361 -0.778877 -0.926730 -0.979664 -0.989631 -1.000000  \n",
       "5      0.079545 -0.225330 -0.550636 -0.784170 -0.906341 -0.971966 -0.997909  \n",
       "6     -0.195086 -0.643828 -0.870583 -0.962073 -0.993026 -1.000000 -1.000000  \n",
       "7     -0.793783 -0.955452 -0.997494 -1.000000 -1.000000 -1.000000 -1.000000  \n",
       "8      0.103076 -0.547979 -0.875514 -0.972472 -0.993299 -0.999986 -1.000000  \n",
       "9     -0.565197 -0.922091 -0.993515 -0.984977 -0.985379 -0.994826 -1.000000  \n",
       "\n",
       "[10 rows x 256 columns]"
      ]
     },
     "execution_count": 20,
     "metadata": {},
     "output_type": "execute_result"
    }
   ],
   "source": [
    "c_ds=df_train.groupby('label').mean()\n",
    "c_ds"
   ]
  },
  {
   "cell_type": "markdown",
   "metadata": {},
   "source": [
    "Next, calculate the distances between the centers of the 10 clouds, $dist_{ij} = dist(c_{i}; c_{j} )$, for\n",
    "$i,j = 0,1,...9$."
   ]
  },
  {
   "cell_type": "code",
   "execution_count": 37,
   "metadata": {},
   "outputs": [
    {
     "data": {
      "image/png": "[encoded data removed]",
      "text/plain": [
       "<Figure size 432x288 with 1 Axes>"
      ]
     },
     "metadata": {
      "needs_background": "light"
     },
     "output_type": "display_data"
    }
   ],
   "source": [
    "from itertools import product\n",
    "dist_ij=np.zeros((10,10))\n",
    "for i,j in product(range(10),range(10)):\n",
    "    if j>=i:\n",
    "        dist_ij[i,j]=np.linalg.norm(c_ds.iloc[i].values-c_ds.iloc[j].values)\n",
    "imgplot = plt.imshow(dist_ij)\n",
    "plt.title(label='distance between i,j')\n",
    "plt.xticks(range(10))\n",
    "plt.yticks(range(10))\n",
    "plt.show()"
   ]
  },
  {
   "cell_type": "markdown",
   "metadata": {
    "jupyter": {
     "source_hidden": true
    }
   },
   "source": [
    "#### Question\n",
    "Given all these distances, try to say something about the expected accuracy of your\n",
    "classifier. What pairs of digits seem to be most difficult to separate?"
   ]
  },
  {
   "cell_type": "markdown",
   "metadata": {
    "jupyter": {
     "source_hidden": true
    }
   },
   "source": [
    "#### Answer\n",
    "Looking at the graph i would suspect its hard to distinguish between 4 and 9, 7 and 9, 8 and 9, 3 and 5.  "
   ]
  },
  {
   "cell_type": "code",
   "execution_count": 39,
   "metadata": {},
   "outputs": [],
   "source": [
    "from sklearn.decomposition import PCA\n",
    "from sklearn.manifold import TSNE, LocallyLinearEmbedding"
   ]
  },
  {
   "cell_type": "code",
   "execution_count": 97,
   "metadata": {},
   "outputs": [],
   "source": [
    "pca = PCA(n_components=2)\n",
    "pca.fit(X_train)\n",
    "\n",
    "X=pca.transform(X_train)\n"
   ]
  },
  {
   "cell_type": "code",
   "execution_count": 75,
   "metadata": {},
   "outputs": [],
   "source": [
    "lle = LocallyLinearEmbedding(n_components=2)\n",
    "lle.fit(X_train)\n",
    "\n",
    "X=lle.transform(X_train)\n",
    "df=pd.DataFrame(X)\n",
    "df['label']=Y_train\n",
    "c_ds_LLE=df.groupby('label').mean()\n"
   ]
  },
  {
   "cell_type": "code",
   "execution_count": 79,
   "metadata": {},
   "outputs": [
    {
     "data": {
      "image/png": "[encoded data removed]",
      "text/plain": [
       "<Figure size 432x288 with 1 Axes>"
      ]
     },
     "metadata": {
      "needs_background": "light"
     },
     "output_type": "display_data"
    }
   ],
   "source": [
    "plt.scatter(c_ds_PCA.values[:,0],c_ds_PCA.values[:,1])\n",
    "\n",
    "for i in range(10):\n",
    "\n",
    "    label = f\"{c_ds_PCA.index[i]}\"\n",
    "\n",
    "    plt.annotate(label, # this is the text\n",
    "                 (c_ds_PCA.values[i,0],c_ds_PCA.values[i,1]), # this is the point to label\n",
    "                 textcoords=\"offset points\", # how to position the text\n",
    "                 xytext=(0,10), # distance from text to points (x,y)\n",
    "                 ha='center') # horizontal alignment can be left, right or "
   ]
  },
  {
   "cell_type": "code",
   "execution_count": 78,
   "metadata": {},
   "outputs": [
    {
     "data": {
      "image/png": "[encoded data removed]",
      "text/plain": [
       "<Figure size 432x288 with 1 Axes>"
      ]
     },
     "metadata": {
      "needs_background": "light"
     },
     "output_type": "display_data"
    }
   ],
   "source": [
    "plt.scatter(c_ds_LLE.values[:,0],c_ds_LLE.values[:,1])\n",
    "\n",
    "for i in range(10):\n",
    "\n",
    "    label = i#f\"{c_ds_LLE.index[i]}\"\n",
    "\n",
    "    plt.annotate(label, # this is the text\n",
    "                 (c_ds_LLE.values[i,0],c_ds_LLE.values[i,1]), # this is the point to label\n",
    "                 textcoords=\"offset points\", # how to position the text\n",
    "                 xytext=(0,10), # distance from text to points (x,y)\n",
    "                 ha='center') # horizontal alignment can be left, right or "
   ]
  },
  {
   "cell_type": "code",
   "execution_count": 99,
   "metadata": {},
   "outputs": [],
   "source": [
    "#TSNE\n",
    "\n",
    "tsne = TSNE(n_components=2)\n",
    "X=tsne.fit_transform(X_train)\n",
    "\n",
    "df=pd.DataFrame(X)\n",
    "df['label']=Y_train\n",
    "c_ds_tsne=df.groupby('label').mean()"
   ]
  },
  {
   "cell_type": "code",
   "execution_count": 101,
   "metadata": {},
   "outputs": [
    {
     "data": {
      "image/png": "[encoded data removed]",
      "text/plain": [
       "<Figure size 432x288 with 1 Axes>"
      ]
     },
     "metadata": {
      "needs_background": "light"
     },
     "output_type": "display_data"
    }
   ],
   "source": [
    "plt.scatter(c_ds_tsne.values[:,0],c_ds_tsne.values[:,1])\n",
    "\n",
    "for i in range(10):\n",
    "\n",
    "    label = i#f\"{c_ds_LLE.index[i]}\"\n",
    "\n",
    "    plt.annotate(label, # this is the text\n",
    "                 (c_ds_tsne.values[i,0],c_ds_tsne.values[i,1]), # this is the point to label\n",
    "                 textcoords=\"offset points\", # how to position the text\n",
    "                 xytext=(0,10), # distance from text to points (x,y)\n",
    "                 ha='center') # horizontal alignment can be left, right or "
   ]
  },
  {
   "cell_type": "code",
   "execution_count": 109,
   "metadata": {
    "collapsed": true,
    "jupyter": {
     "outputs_hidden": true,
     "source_hidden": true
    }
   },
   "outputs": [
    {
     "data": {
      "image/png": "[encoded data removed]",
      "text/plain": [
       "<Figure size 432x288 with 1 Axes>"
      ]
     },
     "metadata": {
      "needs_background": "light"
     },
     "output_type": "display_data"
    },
    {
     "data": {
      "image/png": "[encoded data removed]",
      "text/plain": [
       "<Figure size 432x288 with 1 Axes>"
      ]
     },
     "metadata": {
      "needs_background": "light"
     },
     "output_type": "display_data"
    },
    {
     "data": {
      "image/png": "[encoded data removed]",
      "text/plain": [
       "<Figure size 432x288 with 1 Axes>"
      ]
     },
     "metadata": {
      "needs_background": "light"
     },
     "output_type": "display_data"
    },
    {
     "data": {
      "image/png": "[encoded data removed]",
      "text/plain": [
       "<Figure size 432x288 with 1 Axes>"
      ]
     },
     "metadata": {
      "needs_background": "light"
     },
     "output_type": "display_data"
    },
    {
     "data": {
      "image/png": "[encoded data removed]",
      "text/plain": [
       "<Figure size 432x288 with 1 Axes>"
      ]
     },
     "metadata": {
      "needs_background": "light"
     },
     "output_type": "display_data"
    },
    {
     "data": {
      "image/png": "[encoded data removed]",
      "text/plain": [
       "<Figure size 432x288 with 1 Axes>"
      ]
     },
     "metadata": {
      "needs_background": "light"
     },
     "output_type": "display_data"
    },
    {
     "data": {
      "image/png": "[encoded data removed]",
      "text/plain": [
       "<Figure size 432x288 with 1 Axes>"
      ]
     },
     "metadata": {
      "needs_background": "light"
     },
     "output_type": "display_data"
    },
    {
     "data": {
      "image/png": "[encoded data removed]",
      "text/plain": [
       "<Figure size 432x288 with 1 Axes>"
      ]
     },
     "metadata": {
      "needs_background": "light"
     },
     "output_type": "display_data"
    },
    {
     "data": {
      "image/png": "[encoded data removed]",
      "text/plain": [
       "<Figure size 432x288 with 1 Axes>"
      ]
     },
     "metadata": {
      "needs_background": "light"
     },
     "output_type": "display_data"
    },
    {
     "data": {
      "image/png": "[encoded data removed]",
      "text/plain": [
       "<Figure size 432x288 with 1 Axes>"
      ]
     },
     "metadata": {
      "needs_background": "light"
     },
     "output_type": "display_data"
    }
   ],
   "source": [
    "c_ds\n",
    "for i in range(10):\n",
    "    show_number(i,c_ds)\n"
   ]
  },
  {
   "cell_type": "code",
   "execution_count": 131,
   "metadata": {},
   "outputs": [],
   "source": [
    "distances={}\n",
    "for i in range(9):\n",
    "    distances[i]=np.linalg.norm(X_train.iloc[0]-c_ds.iloc[i].values)\n",
    "\n"
   ]
  },
  {
   "cell_type": "code",
   "execution_count": 132,
   "metadata": {},
   "outputs": [
    {
     "data": {
      "text/plain": [
       "{0: 10.775342757060633,\n",
       " 1: 15.38276515080712,\n",
       " 2: 12.442124018438802,\n",
       " 3: 13.56530504619949,\n",
       " 4: 13.80105954168467,\n",
       " 5: 11.64834067316653,\n",
       " 6: 8.374793365848578,\n",
       " 7: 15.958979892406486,\n",
       " 8: 13.716204719356892}"
      ]
     },
     "execution_count": 132,
     "metadata": {},
     "output_type": "execute_result"
    }
   ],
   "source": [
    "distances"
   ]
  },
  {
   "cell_type": "code",
   "execution_count": null,
   "metadata": {},
   "outputs": [],
   "source": []
  }
 ],
 "metadata": {
  "kernelspec": {
   "display_name": "Python 3",
   "language": "python",
   "name": "python3"
  },
  "language_info": {
   "codemirror_mode": {
    "name": "ipython",
    "version": 3
   },
   "file_extension": ".py",
   "mimetype": "text/x-python",
   "name": "python",
   "nbconvert_exporter": "python",
   "pygments_lexer": "ipython3",
   "version": "3.7.7"
  }
 },
 "nbformat": 4,
 "nbformat_minor": 4
}
